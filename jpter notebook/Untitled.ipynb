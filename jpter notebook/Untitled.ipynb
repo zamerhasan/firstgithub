{
 "cells": [
  {
   "cell_type": "markdown",
   "id": "f58b2725",
   "metadata": {},
   "source": [
    "# learning with zameer hassan\n",
    "#my first programs"
   ]
  },
  {
   "cell_type": "code",
   "execution_count": 1,
   "id": "edfc6041",
   "metadata": {},
   "outputs": [
    {
     "name": "stdout",
     "output_type": "stream",
     "text": [
      "congrts,hammad cna join the school\n"
     ]
    }
   ],
   "source": [
    "required_age_at_school=5\n",
    "hammad_age=5\n",
    "\n",
    "#question : can hammad go to school\n",
    "\n",
    "if hammad_age==required_age_at_school:\n",
    "    print(\"congrts,hammad cna join the school\")\n",
    "\n",
    "elif hammad_age>required_age_at_school:\n",
    "    print(\"hammad should join higher secondary school\")\n",
    "\n",
    "#elif hammad_age< required_age_at_school:\n",
    "   # print(\"hammad is too younger\")\n",
    "else:\n",
    "    print(\"hammad can not go to school \")"
   ]
  },
  {
   "cell_type": "code",
   "execution_count": null,
   "id": "80d184c0",
   "metadata": {},
   "outputs": [],
   "source": []
  }
 ],
 "metadata": {
  "kernelspec": {
   "display_name": "Python 3 (ipykernel)",
   "language": "python",
   "name": "python3"
  },
  "language_info": {
   "codemirror_mode": {
    "name": "ipython",
    "version": 3
   },
   "file_extension": ".py",
   "mimetype": "text/x-python",
   "name": "python",
   "nbconvert_exporter": "python",
   "pygments_lexer": "ipython3",
   "version": "3.9.7"
  }
 },
 "nbformat": 4,
 "nbformat_minor": 5
}
