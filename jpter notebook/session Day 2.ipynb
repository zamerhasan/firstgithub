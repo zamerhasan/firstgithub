{
 "cells": [
  {
   "cell_type": "code",
   "execution_count": 1,
   "id": "a39deabf",
   "metadata": {},
   "outputs": [],
   "source": [
    "#body mass index(bmi)\n",
    "#inputweight\n",
    "#height\n",
    "#bBMI (ask your self your height)\n",
    "#weight \n",
    "#calculate BMI\n",
    "#print BMI (my name is ..., and my BMI is....)"
   ]
  },
  {
   "cell_type": "code",
   "execution_count": 2,
   "id": "0d21d7a1",
   "metadata": {},
   "outputs": [],
   "source": [
    "#weight in kg/ height in m and its sqauare"
   ]
  },
  {
   "cell_type": "code",
   "execution_count": 3,
   "id": "c474948d",
   "metadata": {},
   "outputs": [
    {
     "name": "stdout",
     "output_type": "stream",
     "text": [
      "what is your height?1.74\n"
     ]
    }
   ],
   "source": [
    "height=input(\"what is your height?\")"
   ]
  },
  {
   "cell_type": "code",
   "execution_count": 4,
   "id": "eabecbbe",
   "metadata": {},
   "outputs": [
    {
     "data": {
      "text/plain": [
       "str"
      ]
     },
     "execution_count": 4,
     "metadata": {},
     "output_type": "execute_result"
    }
   ],
   "source": [
    "type(height)"
   ]
  },
  {
   "cell_type": "code",
   "execution_count": 5,
   "id": "cab9b779",
   "metadata": {},
   "outputs": [],
   "source": [
    "height=float(height)"
   ]
  },
  {
   "cell_type": "code",
   "execution_count": 6,
   "id": "5c05034f",
   "metadata": {},
   "outputs": [
    {
     "data": {
      "text/plain": [
       "float"
      ]
     },
     "execution_count": 6,
     "metadata": {},
     "output_type": "execute_result"
    }
   ],
   "source": [
    "type(height)"
   ]
  },
  {
   "cell_type": "code",
   "execution_count": 7,
   "id": "607a67e7",
   "metadata": {
    "scrolled": true
   },
   "outputs": [
    {
     "name": "stdout",
     "output_type": "stream",
     "text": [
      "what is your weight?78\n"
     ]
    }
   ],
   "source": [
    "weight=input(\"what is your weight?\")"
   ]
  },
  {
   "cell_type": "code",
   "execution_count": 8,
   "id": "9a017e9e",
   "metadata": {},
   "outputs": [
    {
     "data": {
      "text/plain": [
       "str"
      ]
     },
     "execution_count": 8,
     "metadata": {},
     "output_type": "execute_result"
    }
   ],
   "source": [
    "type(weight)"
   ]
  },
  {
   "cell_type": "code",
   "execution_count": 9,
   "id": "3da51be0",
   "metadata": {},
   "outputs": [],
   "source": [
    "weight=float(weight)"
   ]
  },
  {
   "cell_type": "code",
   "execution_count": 10,
   "id": "da3f6fc2",
   "metadata": {},
   "outputs": [
    {
     "data": {
      "text/plain": [
       "float"
      ]
     },
     "execution_count": 10,
     "metadata": {},
     "output_type": "execute_result"
    }
   ],
   "source": [
    "type(weight)"
   ]
  },
  {
   "cell_type": "code",
   "execution_count": 11,
   "id": "8097e7cb",
   "metadata": {},
   "outputs": [
    {
     "name": "stdout",
     "output_type": "stream",
     "text": [
      "what is your name zee\n"
     ]
    }
   ],
   "source": [
    "name = input('what is your name')"
   ]
  },
  {
   "cell_type": "code",
   "execution_count": 12,
   "id": "ad9dd85d",
   "metadata": {},
   "outputs": [
    {
     "data": {
      "text/plain": [
       "25.762980578676178"
      ]
     },
     "execution_count": 12,
     "metadata": {},
     "output_type": "execute_result"
    }
   ],
   "source": [
    "#bmi formula\n",
    "BMI= weight/height**2\n",
    "BMI"
   ]
  },
  {
   "cell_type": "code",
   "execution_count": 22,
   "id": "b69d04c1",
   "metadata": {},
   "outputs": [
    {
     "name": "stdout",
     "output_type": "stream",
     "text": [
      "25.762980578676178\n"
     ]
    }
   ],
   "source": [
    "print(BMI)"
   ]
  },
  {
   "cell_type": "code",
   "execution_count": null,
   "id": "ae150f1e",
   "metadata": {},
   "outputs": [],
   "source": []
  }
 ],
 "metadata": {
  "kernelspec": {
   "display_name": "Python 3 (ipykernel)",
   "language": "python",
   "name": "python3"
  },
  "language_info": {
   "codemirror_mode": {
    "name": "ipython",
    "version": 3
   },
   "file_extension": ".py",
   "mimetype": "text/x-python",
   "name": "python",
   "nbconvert_exporter": "python",
   "pygments_lexer": "ipython3",
   "version": "3.9.7"
  }
 },
 "nbformat": 4,
 "nbformat_minor": 5
}
